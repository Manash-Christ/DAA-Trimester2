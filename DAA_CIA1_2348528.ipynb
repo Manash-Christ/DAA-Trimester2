{
  "nbformat": 4,
  "nbformat_minor": 0,
  "metadata": {
    "colab": {
      "provenance": [],
      "authorship_tag": "ABX9TyNmfpfUDywRiaGO/GYiLGUS",
      "include_colab_link": true
    },
    "kernelspec": {
      "name": "python3",
      "display_name": "Python 3"
    },
    "language_info": {
      "name": "python"
    }
  },
  "cells": [
    {
      "cell_type": "markdown",
      "metadata": {
        "id": "view-in-github",
        "colab_type": "text"
      },
      "source": [
        "<a href=\"https://colab.research.google.com/github/Manash-Christ/DAA-Trimester2/blob/main/DAA_CIA1_2348528.ipynb\" target=\"_parent\"><img src=\"https://colab.research.google.com/assets/colab-badge.svg\" alt=\"Open In Colab\"/></a>"
      ]
    },
    {
      "cell_type": "code",
      "execution_count": 181,
      "metadata": {
        "id": "pAilr_hxE6Qt"
      },
      "outputs": [],
      "source": [
        "import time\n",
        "from tqdm import tqdm\n",
        "import numpy as np\n",
        "import pandas as pd"
      ]
    },
    {
      "cell_type": "code",
      "source": [
        "# generate randomg lists of numbers\n",
        "rng = np.random.default_rng()\n",
        "def randgen(shuffle:bool=True,**kwargs):\n",
        "  if shuffle:\n",
        "    return rng.integers(low=0,high=100,size=rng.integers(50))\n",
        "  else:\n",
        "    return rng.integers(low=0,high=100,size=kwargs['size'])\n",
        "randgen(False,size=9)"
      ],
      "metadata": {
        "colab": {
          "base_uri": "https://localhost:8080/"
        },
        "id": "fQWMhDnOFOuJ",
        "outputId": "56426aa3-0609-40b6-d791-32d01a3263f2"
      },
      "execution_count": 182,
      "outputs": [
        {
          "output_type": "execute_result",
          "data": {
            "text/plain": [
              "array([37, 64, 30, 83,  3, 24, 20,  9, 15])"
            ]
          },
          "metadata": {},
          "execution_count": 182
        }
      ]
    },
    {
      "cell_type": "code",
      "source": [
        "# time\n",
        "bubb  = pd.DataFrame(columns=['inputsize', 'avgtime'])\n",
        "inse  = pd.DataFrame(columns=['inputsize', 'avgtime'],)\n",
        "quic = pd.DataFrame(columns=['inputsize', 'avgtime'],)\n"
      ],
      "metadata": {
        "id": "tS4q1Bw54h4I"
      },
      "execution_count": 205,
      "outputs": []
    },
    {
      "cell_type": "code",
      "source": [
        "# Bubble sort\n",
        "def bubble(array):\n",
        "  start = time.time()\n",
        "  for p in tqdm(range(len(array))):\n",
        "    print(f\"iteration {p} --> array {array}\")\n",
        "    for q in tqdm(range(len(array)-p-1)):\n",
        "      if array[q]>array[q+1]:\n",
        "        array[q],array[q+1] = array[q+1],array[q]\n",
        "        print(f\"sorting iteration {q+1}\",array)\n",
        "  duration = time.time() - start\n",
        "  bubb.loc[]({'inputsize':len(array),'avgtime':duration},ignore_index=True)\n",
        "  return array\n",
        "\n",
        "\n",
        "bubble([5,4,3,4,3,434,33,2,10])"
      ],
      "metadata": {
        "id": "EGz5zmysJ5jJ",
        "colab": {
          "base_uri": "https://localhost:8080/",
          "height": 1000
        },
        "outputId": "249fa1fb-a4a6-4d8f-9460-eab1fc284323"
      },
      "execution_count": 211,
      "outputs": [
        {
          "output_type": "stream",
          "name": "stderr",
          "text": [
            "\r  0%|          | 0/9 [00:00<?, ?it/s]"
          ]
        },
        {
          "output_type": "stream",
          "name": "stdout",
          "text": [
            "iteration 0 --> array [5, 4, 3, 4, 3, 434, 33, 2, 10]\n"
          ]
        },
        {
          "output_type": "stream",
          "name": "stderr",
          "text": [
            "\n",
            "100%|██████████| 8/8 [00:00<00:00, 21945.34it/s]\n"
          ]
        },
        {
          "output_type": "stream",
          "name": "stdout",
          "text": [
            "sorting iteration 1 [4, 5, 3, 4, 3, 434, 33, 2, 10]\n",
            "sorting iteration 2 [4, 3, 5, 4, 3, 434, 33, 2, 10]\n",
            "sorting iteration 3 [4, 3, 4, 5, 3, 434, 33, 2, 10]\n",
            "sorting iteration 4 [4, 3, 4, 3, 5, 434, 33, 2, 10]\n",
            "sorting iteration 6 [4, 3, 4, 3, 5, 33, 434, 2, 10]\n",
            "sorting iteration 7 [4, 3, 4, 3, 5, 33, 2, 434, 10]\n",
            "sorting iteration 8 [4, 3, 4, 3, 5, 33, 2, 10, 434]\n",
            "iteration 1 --> array [4, 3, 4, 3, 5, 33, 2, 10, 434]\n"
          ]
        },
        {
          "output_type": "stream",
          "name": "stderr",
          "text": [
            "\n",
            "100%|██████████| 7/7 [00:00<00:00, 24987.34it/s]\n"
          ]
        },
        {
          "output_type": "stream",
          "name": "stdout",
          "text": [
            "sorting iteration 1 [3, 4, 4, 3, 5, 33, 2, 10, 434]\n",
            "sorting iteration 3 [3, 4, 3, 4, 5, 33, 2, 10, 434]\n",
            "sorting iteration 6 [3, 4, 3, 4, 5, 2, 33, 10, 434]\n",
            "sorting iteration 7 [3, 4, 3, 4, 5, 2, 10, 33, 434]\n",
            "iteration 2 --> array [3, 4, 3, 4, 5, 2, 10, 33, 434]\n"
          ]
        },
        {
          "output_type": "stream",
          "name": "stderr",
          "text": [
            "\n",
            "100%|██████████| 6/6 [00:00<00:00, 28565.07it/s]\n"
          ]
        },
        {
          "output_type": "stream",
          "name": "stdout",
          "text": [
            "sorting iteration 2 [3, 3, 4, 4, 5, 2, 10, 33, 434]\n",
            "sorting iteration 5 [3, 3, 4, 4, 2, 5, 10, 33, 434]\n",
            "iteration 3 --> array [3, 3, 4, 4, 2, 5, 10, 33, 434]\n"
          ]
        },
        {
          "output_type": "stream",
          "name": "stderr",
          "text": [
            "\n",
            "100%|██████████| 5/5 [00:00<00:00, 8939.27it/s]\n"
          ]
        },
        {
          "output_type": "stream",
          "name": "stdout",
          "text": [
            "sorting iteration 4 [3, 3, 4, 2, 4, 5, 10, 33, 434]\n",
            "iteration 4 --> array [3, 3, 4, 2, 4, 5, 10, 33, 434]\n"
          ]
        },
        {
          "output_type": "stream",
          "name": "stderr",
          "text": [
            "\n",
            "100%|██████████| 4/4 [00:00<00:00, 25497.29it/s]\n"
          ]
        },
        {
          "output_type": "stream",
          "name": "stdout",
          "text": [
            "sorting iteration 3 [3, 3, 2, 4, 4, 5, 10, 33, 434]\n",
            "iteration 5 --> array [3, 3, 2, 4, 4, 5, 10, 33, 434]\n"
          ]
        },
        {
          "output_type": "stream",
          "name": "stderr",
          "text": [
            "\n",
            "100%|██████████| 3/3 [00:00<00:00, 7401.71it/s]\n"
          ]
        },
        {
          "output_type": "stream",
          "name": "stdout",
          "text": [
            "sorting iteration 2 [3, 2, 3, 4, 4, 5, 10, 33, 434]\n",
            "iteration 6 --> array [3, 2, 3, 4, 4, 5, 10, 33, 434]\n"
          ]
        },
        {
          "output_type": "stream",
          "name": "stderr",
          "text": [
            "\n",
            "100%|██████████| 2/2 [00:00<00:00, 12614.45it/s]\n"
          ]
        },
        {
          "output_type": "stream",
          "name": "stdout",
          "text": [
            "sorting iteration 1 [2, 3, 3, 4, 4, 5, 10, 33, 434]\n",
            "iteration 7 --> array [2, 3, 3, 4, 4, 5, 10, 33, 434]\n"
          ]
        },
        {
          "output_type": "stream",
          "name": "stderr",
          "text": [
            "\n",
            "100%|██████████| 1/1 [00:00<00:00, 10106.76it/s]\n"
          ]
        },
        {
          "output_type": "stream",
          "name": "stdout",
          "text": [
            "iteration 8 --> array [2, 3, 3, 4, 4, 5, 10, 33, 434]\n"
          ]
        },
        {
          "output_type": "stream",
          "name": "stderr",
          "text": [
            "\n",
            "0it [00:00, ?it/s]\n",
            "100%|██████████| 9/9 [00:00<00:00, 105.11it/s]\n"
          ]
        },
        {
          "output_type": "error",
          "ename": "UnboundLocalError",
          "evalue": "ignored",
          "traceback": [
            "\u001b[0;31m---------------------------------------------------------------------------\u001b[0m",
            "\u001b[0;31mUnboundLocalError\u001b[0m                         Traceback (most recent call last)",
            "\u001b[0;32m<ipython-input-211-f554157e4908>\u001b[0m in \u001b[0;36m<cell line: 15>\u001b[0;34m()\u001b[0m\n\u001b[1;32m     13\u001b[0m \u001b[0;34m\u001b[0m\u001b[0m\n\u001b[1;32m     14\u001b[0m \u001b[0;34m\u001b[0m\u001b[0m\n\u001b[0;32m---> 15\u001b[0;31m \u001b[0mbubble\u001b[0m\u001b[0;34m(\u001b[0m\u001b[0;34m[\u001b[0m\u001b[0;36m5\u001b[0m\u001b[0;34m,\u001b[0m\u001b[0;36m4\u001b[0m\u001b[0;34m,\u001b[0m\u001b[0;36m3\u001b[0m\u001b[0;34m,\u001b[0m\u001b[0;36m4\u001b[0m\u001b[0;34m,\u001b[0m\u001b[0;36m3\u001b[0m\u001b[0;34m,\u001b[0m\u001b[0;36m434\u001b[0m\u001b[0;34m,\u001b[0m\u001b[0;36m33\u001b[0m\u001b[0;34m,\u001b[0m\u001b[0;36m2\u001b[0m\u001b[0;34m,\u001b[0m\u001b[0;36m10\u001b[0m\u001b[0;34m]\u001b[0m\u001b[0;34m)\u001b[0m\u001b[0;34m\u001b[0m\u001b[0;34m\u001b[0m\u001b[0m\n\u001b[0m",
            "\u001b[0;32m<ipython-input-211-f554157e4908>\u001b[0m in \u001b[0;36mbubble\u001b[0;34m(array)\u001b[0m\n\u001b[1;32m      9\u001b[0m         \u001b[0mprint\u001b[0m\u001b[0;34m(\u001b[0m\u001b[0;34mf\"sorting iteration {q+1}\"\u001b[0m\u001b[0;34m,\u001b[0m\u001b[0marray\u001b[0m\u001b[0;34m)\u001b[0m\u001b[0;34m\u001b[0m\u001b[0;34m\u001b[0m\u001b[0m\n\u001b[1;32m     10\u001b[0m   \u001b[0mduration\u001b[0m \u001b[0;34m=\u001b[0m \u001b[0mtime\u001b[0m\u001b[0;34m.\u001b[0m\u001b[0mtime\u001b[0m\u001b[0;34m(\u001b[0m\u001b[0;34m)\u001b[0m \u001b[0;34m-\u001b[0m \u001b[0mstart\u001b[0m\u001b[0;34m\u001b[0m\u001b[0;34m\u001b[0m\u001b[0m\n\u001b[0;32m---> 11\u001b[0;31m   \u001b[0mbubb\u001b[0m \u001b[0;34m=\u001b[0m \u001b[0mbubb\u001b[0m\u001b[0;34m.\u001b[0m\u001b[0mappend\u001b[0m\u001b[0;34m(\u001b[0m\u001b[0;34m{\u001b[0m\u001b[0;34m'inputsize'\u001b[0m\u001b[0;34m:\u001b[0m\u001b[0mlen\u001b[0m\u001b[0;34m(\u001b[0m\u001b[0marray\u001b[0m\u001b[0;34m)\u001b[0m\u001b[0;34m,\u001b[0m\u001b[0;34m'avgtime'\u001b[0m\u001b[0;34m:\u001b[0m\u001b[0mduration\u001b[0m\u001b[0;34m}\u001b[0m\u001b[0;34m,\u001b[0m\u001b[0mignore_index\u001b[0m\u001b[0;34m=\u001b[0m\u001b[0;32mTrue\u001b[0m\u001b[0;34m)\u001b[0m\u001b[0;34m\u001b[0m\u001b[0;34m\u001b[0m\u001b[0m\n\u001b[0m\u001b[1;32m     12\u001b[0m   \u001b[0;32mreturn\u001b[0m \u001b[0marray\u001b[0m\u001b[0;34m\u001b[0m\u001b[0;34m\u001b[0m\u001b[0m\n\u001b[1;32m     13\u001b[0m \u001b[0;34m\u001b[0m\u001b[0m\n",
            "\u001b[0;31mUnboundLocalError\u001b[0m: local variable 'bubb' referenced before assignment"
          ]
        }
      ]
    },
    {
      "cell_type": "code",
      "source": [
        "bubb"
      ],
      "metadata": {
        "colab": {
          "base_uri": "https://localhost:8080/",
          "height": 53
        },
        "id": "aDR1cOfiYcki",
        "outputId": "f0d43b1a-fcd6-4306-952e-ed9e498c7c22"
      },
      "execution_count": 210,
      "outputs": [
        {
          "output_type": "execute_result",
          "data": {
            "text/plain": [
              "Empty DataFrame\n",
              "Columns: [inputsize, avgtime]\n",
              "Index: []"
            ],
            "text/html": [
              "\n",
              "  <div id=\"df-0eb672d9-03b1-40b9-ba38-b4ef16b8c67a\" class=\"colab-df-container\">\n",
              "    <div>\n",
              "<style scoped>\n",
              "    .dataframe tbody tr th:only-of-type {\n",
              "        vertical-align: middle;\n",
              "    }\n",
              "\n",
              "    .dataframe tbody tr th {\n",
              "        vertical-align: top;\n",
              "    }\n",
              "\n",
              "    .dataframe thead th {\n",
              "        text-align: right;\n",
              "    }\n",
              "</style>\n",
              "<table border=\"1\" class=\"dataframe\">\n",
              "  <thead>\n",
              "    <tr style=\"text-align: right;\">\n",
              "      <th></th>\n",
              "      <th>inputsize</th>\n",
              "      <th>avgtime</th>\n",
              "    </tr>\n",
              "  </thead>\n",
              "  <tbody>\n",
              "  </tbody>\n",
              "</table>\n",
              "</div>\n",
              "    <div class=\"colab-df-buttons\">\n",
              "\n",
              "  <div class=\"colab-df-container\">\n",
              "    <button class=\"colab-df-convert\" onclick=\"convertToInteractive('df-0eb672d9-03b1-40b9-ba38-b4ef16b8c67a')\"\n",
              "            title=\"Convert this dataframe to an interactive table.\"\n",
              "            style=\"display:none;\">\n",
              "\n",
              "  <svg xmlns=\"http://www.w3.org/2000/svg\" height=\"24px\" viewBox=\"0 -960 960 960\">\n",
              "    <path d=\"M120-120v-720h720v720H120Zm60-500h600v-160H180v160Zm220 220h160v-160H400v160Zm0 220h160v-160H400v160ZM180-400h160v-160H180v160Zm440 0h160v-160H620v160ZM180-180h160v-160H180v160Zm440 0h160v-160H620v160Z\"/>\n",
              "  </svg>\n",
              "    </button>\n",
              "\n",
              "  <style>\n",
              "    .colab-df-container {\n",
              "      display:flex;\n",
              "      gap: 12px;\n",
              "    }\n",
              "\n",
              "    .colab-df-convert {\n",
              "      background-color: #E8F0FE;\n",
              "      border: none;\n",
              "      border-radius: 50%;\n",
              "      cursor: pointer;\n",
              "      display: none;\n",
              "      fill: #1967D2;\n",
              "      height: 32px;\n",
              "      padding: 0 0 0 0;\n",
              "      width: 32px;\n",
              "    }\n",
              "\n",
              "    .colab-df-convert:hover {\n",
              "      background-color: #E2EBFA;\n",
              "      box-shadow: 0px 1px 2px rgba(60, 64, 67, 0.3), 0px 1px 3px 1px rgba(60, 64, 67, 0.15);\n",
              "      fill: #174EA6;\n",
              "    }\n",
              "\n",
              "    .colab-df-buttons div {\n",
              "      margin-bottom: 4px;\n",
              "    }\n",
              "\n",
              "    [theme=dark] .colab-df-convert {\n",
              "      background-color: #3B4455;\n",
              "      fill: #D2E3FC;\n",
              "    }\n",
              "\n",
              "    [theme=dark] .colab-df-convert:hover {\n",
              "      background-color: #434B5C;\n",
              "      box-shadow: 0px 1px 3px 1px rgba(0, 0, 0, 0.15);\n",
              "      filter: drop-shadow(0px 1px 2px rgba(0, 0, 0, 0.3));\n",
              "      fill: #FFFFFF;\n",
              "    }\n",
              "  </style>\n",
              "\n",
              "    <script>\n",
              "      const buttonEl =\n",
              "        document.querySelector('#df-0eb672d9-03b1-40b9-ba38-b4ef16b8c67a button.colab-df-convert');\n",
              "      buttonEl.style.display =\n",
              "        google.colab.kernel.accessAllowed ? 'block' : 'none';\n",
              "\n",
              "      async function convertToInteractive(key) {\n",
              "        const element = document.querySelector('#df-0eb672d9-03b1-40b9-ba38-b4ef16b8c67a');\n",
              "        const dataTable =\n",
              "          await google.colab.kernel.invokeFunction('convertToInteractive',\n",
              "                                                    [key], {});\n",
              "        if (!dataTable) return;\n",
              "\n",
              "        const docLinkHtml = 'Like what you see? Visit the ' +\n",
              "          '<a target=\"_blank\" href=https://colab.research.google.com/notebooks/data_table.ipynb>data table notebook</a>'\n",
              "          + ' to learn more about interactive tables.';\n",
              "        element.innerHTML = '';\n",
              "        dataTable['output_type'] = 'display_data';\n",
              "        await google.colab.output.renderOutput(dataTable, element);\n",
              "        const docLink = document.createElement('div');\n",
              "        docLink.innerHTML = docLinkHtml;\n",
              "        element.appendChild(docLink);\n",
              "      }\n",
              "    </script>\n",
              "  </div>\n",
              "\n",
              "    </div>\n",
              "  </div>\n"
            ]
          },
          "metadata": {},
          "execution_count": 210
        }
      ]
    },
    {
      "cell_type": "code",
      "source": [
        "def part(array,low,high):\n",
        "  pivot = array[high]\n",
        "  i = low - 1\n",
        "  for j in range(low,high):\n",
        "    if array[j]<=pivot:\n",
        "      i+=1\n",
        "      array[i],array[j] = array[j],array[i]\n",
        "  array[i+1], array[high] = array[high], array[i+1]\n",
        "  return i+1\n",
        "\n",
        "def quick(array,low,high):\n",
        "  if low<high:\n",
        "    p = part(array,low,high)\n",
        "    quick(array,low,p-1)\n",
        "    quick(array,p+1,high)\n",
        "  return array\n",
        "\n",
        "array = randgen()\n",
        "quick(array,0,len(array)-1)"
      ],
      "metadata": {
        "colab": {
          "base_uri": "https://localhost:8080/"
        },
        "id": "06ah-7UDcdRm",
        "outputId": "ce0a476d-e47a-4f79-b0ad-dd5e8550b964"
      },
      "execution_count": 156,
      "outputs": [
        {
          "output_type": "execute_result",
          "data": {
            "text/plain": [
              "array([ 0,  5,  7, 16, 17, 18, 21, 29, 47, 49, 50, 52, 53, 54, 57, 65, 69,\n",
              "       72, 73, 86, 99])"
            ]
          },
          "metadata": {},
          "execution_count": 156
        }
      ]
    },
    {
      "cell_type": "code",
      "source": [
        "def insert(array):\n",
        "  for i in range(1,len(array)):\n",
        "    j = i\n",
        "    while array[j-1]>array[j] and j > 0:\n",
        "      array[j-1],array[j] = array[j],array[j-1]\n",
        "      j-=1\n",
        "  return array\n",
        "\n",
        "array = randgen()\n",
        "insert(array)\n"
      ],
      "metadata": {
        "colab": {
          "base_uri": "https://localhost:8080/"
        },
        "id": "49xAGOmthPBq",
        "outputId": "661c07ca-1f20-4725-ddde-73b4e2f6ef38"
      },
      "execution_count": 177,
      "outputs": [
        {
          "output_type": "execute_result",
          "data": {
            "text/plain": [
              "array([ 1,  2,  2,  3,  4, 11, 13, 13, 18, 20, 23, 24, 36, 45, 48, 51, 52,\n",
              "       53, 59, 65, 72, 77, 78, 78, 84, 87, 88, 89, 89, 93])"
            ]
          },
          "metadata": {},
          "execution_count": 177
        }
      ]
    },
    {
      "cell_type": "code",
      "source": [
        "def randgen():\n",
        "  return rng.integers(low=0,high=100,size=rng.integers(50))\n",
        ""
      ],
      "metadata": {
        "id": "4UVQGylYhUK6"
      },
      "execution_count": 121,
      "outputs": []
    },
    {
      "cell_type": "code",
      "source": [
        "arr = randgen()"
      ],
      "metadata": {
        "id": "1fRSQYVEhaMw"
      },
      "execution_count": 134,
      "outputs": []
    },
    {
      "cell_type": "code",
      "source": [
        "i=2\n",
        "++i\n"
      ],
      "metadata": {
        "colab": {
          "base_uri": "https://localhost:8080/"
        },
        "id": "0iVySGTnthJm",
        "outputId": "850efe85-d1a0-44ea-b17d-757e9b55cd17"
      },
      "execution_count": 143,
      "outputs": [
        {
          "output_type": "execute_result",
          "data": {
            "text/plain": [
              "2"
            ]
          },
          "metadata": {},
          "execution_count": 143
        }
      ]
    },
    {
      "cell_type": "code",
      "source": [
        "i++"
      ],
      "metadata": {
        "colab": {
          "base_uri": "https://localhost:8080/",
          "height": 142
        },
        "id": "7A4eFAGNtjsy",
        "outputId": "57a1c0a9-aaa4-49bd-84aa-6da51106405b"
      },
      "execution_count": 147,
      "outputs": [
        {
          "output_type": "error",
          "ename": "SyntaxError",
          "evalue": "ignored",
          "traceback": [
            "\u001b[0;36m  File \u001b[0;32m\"<ipython-input-147-56f7e036d680>\"\u001b[0;36m, line \u001b[0;32m1\u001b[0m\n\u001b[0;31m    i++\u001b[0m\n\u001b[0m       ^\u001b[0m\n\u001b[0;31mSyntaxError\u001b[0m\u001b[0;31m:\u001b[0m invalid syntax\n"
          ]
        }
      ]
    },
    {
      "cell_type": "code",
      "source": [],
      "metadata": {
        "id": "zKKKTK3ywDTh"
      },
      "execution_count": null,
      "outputs": []
    }
  ]
}