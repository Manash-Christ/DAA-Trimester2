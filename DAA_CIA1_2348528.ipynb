{
  "cells": [
    {
      "cell_type": "markdown",
      "metadata": {
        "id": "view-in-github",
        "colab_type": "text"
      },
      "source": [
        "<a href=\"https://colab.research.google.com/github/Manash-Christ/DAA-Trimester2/blob/main/DAA_CIA1_2348528.ipynb\" target=\"_parent\"><img src=\"https://colab.research.google.com/assets/colab-badge.svg\" alt=\"Open In Colab\"/></a>"
      ]
    },
    {
      "cell_type": "code",
      "execution_count": null,
      "metadata": {
        "id": "pAilr_hxE6Qt"
      },
      "outputs": [],
      "source": [
        "import time\n",
        "from tqdm import tqdm\n",
        "import numpy as np\n",
        "import pandas as pd\n",
        "import matplotlib.pyplot as plt\n",
        "import seaborn as sns"
      ]
    },
    {
      "cell_type": "markdown",
      "metadata": {
        "id": "eLSec2XTDcaa"
      },
      "source": [
        "## Analysis of sorting algorithms"
      ]
    },
    {
      "cell_type": "markdown",
      "metadata": {
        "id": "PZQt_53ADcab"
      },
      "source": [
        "#### Create function to generate random arrays of random length"
      ]
    },
    {
      "cell_type": "code",
      "execution_count": null,
      "metadata": {
        "colab": {
          "base_uri": "https://localhost:8080/"
        },
        "id": "fQWMhDnOFOuJ",
        "outputId": "8418576b-895b-4d9d-f1e5-80a77bba6b23"
      },
      "outputs": [
        {
          "name": "stdout",
          "output_type": "stream",
          "text": [
            "Length of random array: 6637\n"
          ]
        },
        {
          "data": {
            "text/plain": [
              "array([ 9, 95, 57, ..., 59, 37, 10])"
            ]
          },
          "execution_count": 198,
          "metadata": {},
          "output_type": "execute_result"
        }
      ],
      "source": [
        "# generate randomg lists of numbers\n",
        "rng = np.random.default_rng()\n",
        "def randgen(shuffle:bool=True,**kwargs):\n",
        "  if shuffle:\n",
        "    return rng.integers(low=0,high=100,size=rng.integers(10000))\n",
        "  else:\n",
        "    return rng.integers(low=0,high=100,size=kwargs['size'])\n",
        "\n",
        "arr = randgen()\n",
        "print(\"Length of random array: %d\"%len(arr))\n",
        "arr"
      ]
    },
    {
      "cell_type": "markdown",
      "metadata": {
        "id": "bhSFaOaBDcaj"
      },
      "source": [
        "#### Creating dataframe to store the values"
      ]
    },
    {
      "cell_type": "code",
      "execution_count": null,
      "metadata": {
        "id": "tS4q1Bw54h4I"
      },
      "outputs": [],
      "source": [
        "# Two columns are made, one of the input size of the array and the other of the time taken\n",
        "bubb  = pd.DataFrame(columns=['inputsize', 'avgtime'])\n",
        "inse  = pd.DataFrame(columns=['inputsize', 'avgtime'],)\n",
        "quic = pd.DataFrame(columns=['inputsize', 'avgtime'],)"
      ]
    },
    {
      "cell_type": "markdown",
      "metadata": {
        "id": "t3luo4LPDcal"
      },
      "source": [
        "### Bubble sort"
      ]
    },
    {
      "cell_type": "code",
      "execution_count": null,
      "metadata": {
        "id": "EGz5zmysJ5jJ"
      },
      "outputs": [],
      "source": [
        "# Bubble sort\n",
        "# Repeated comparison and interchange of adjacent cells.\n",
        "# T(N) = n^2\n",
        "def bubble(array):\n",
        "  start = time.time()\n",
        "  for p in range(len(array)):\n",
        "    #print(f\"iteration {p} --> array {array}\")\n",
        "    for q in range(len(array)-p-1):\n",
        "      if array[q]>array[q+1]:\n",
        "        array[q],array[q+1] = array[q+1],array[q]\n",
        "        #print(f\"sorting iteration {q+1}\",array)\n",
        "  duration = time.time() - start\n",
        "  bubb.loc[len(bubb)+1] = [len(array),duration]\n",
        "  return array"
      ]
    },
    {
      "cell_type": "markdown",
      "metadata": {
        "id": "1ygP36ZPDcao"
      },
      "source": [
        "#### Testing loop"
      ]
    },
    {
      "cell_type": "code",
      "execution_count": null,
      "metadata": {
        "colab": {
          "base_uri": "https://localhost:8080/"
        },
        "id": "7IRG_UuY-39w",
        "outputId": "7c75d2ac-3146-45cc-87d0-fac22192ef93"
      },
      "outputs": [
        {
          "name": "stderr",
          "output_type": "stream",
          "text": [
            "100%|██████████████████████████████████████████████████████████████████████████████| 100/100 [15:31<00:00,  9.32s/it]\n"
          ]
        }
      ],
      "source": [
        "for i in tqdm(range(100)):\n",
        "  #print( f\"\\n-xx-------ARRAY-------xx-\\n{i+1}\")\n",
        "  array = randgen()\n",
        "  bubble(array)"
      ]
    },
    {
      "cell_type": "code",
      "execution_count": null,
      "metadata": {
        "id": "chhiJOSqDcap",
        "outputId": "edd500ce-9725-4b8d-c74d-66cf1a2c9757"
      },
      "outputs": [
        {
          "name": "stdout",
          "output_type": "stream",
          "text": [
            "For the average input size of 4896.04, the average time taken for Bubble sort is 9.312263488769531 seconds.\n"
          ]
        }
      ],
      "source": [
        "print(f\"For the average input size of {bubb.inputsize.mean()}, the average time taken for Bubble sort is {bubb.avgtime.mean()} seconds.\")"
      ]
    },
    {
      "cell_type": "code",
      "execution_count": null,
      "metadata": {
        "id": "DKH3RTCuDcap",
        "outputId": "a75df4a0-159b-497c-c1a3-23fb5d1ef77e"
      },
      "outputs": [
        {
          "data": {
            "text/html": [
              "<div>\n",
              "<style scoped>\n",
              "    .dataframe tbody tr th:only-of-type {\n",
              "        vertical-align: middle;\n",
              "    }\n",
              "\n",
              "    .dataframe tbody tr th {\n",
              "        vertical-align: top;\n",
              "    }\n",
              "\n",
              "    .dataframe thead th {\n",
              "        text-align: right;\n",
              "    }\n",
              "</style>\n",
              "<table border=\"1\" class=\"dataframe\">\n",
              "  <thead>\n",
              "    <tr style=\"text-align: right;\">\n",
              "      <th></th>\n",
              "      <th>count</th>\n",
              "      <th>mean</th>\n",
              "      <th>std</th>\n",
              "      <th>min</th>\n",
              "      <th>25%</th>\n",
              "      <th>50%</th>\n",
              "      <th>75%</th>\n",
              "      <th>max</th>\n",
              "    </tr>\n",
              "  </thead>\n",
              "  <tbody>\n",
              "    <tr>\n",
              "      <th>inputsize</th>\n",
              "      <td>100.0</td>\n",
              "      <td>4896.040000</td>\n",
              "      <td>2997.726529</td>\n",
              "      <td>8.000000</td>\n",
              "      <td>2267.500000</td>\n",
              "      <td>4540.000000</td>\n",
              "      <td>7523.000000</td>\n",
              "      <td>9915.000000</td>\n",
              "    </tr>\n",
              "    <tr>\n",
              "      <th>avgtime</th>\n",
              "      <td>100.0</td>\n",
              "      <td>9.312263</td>\n",
              "      <td>8.944903</td>\n",
              "      <td>0.000042</td>\n",
              "      <td>1.400469</td>\n",
              "      <td>6.404644</td>\n",
              "      <td>14.839803</td>\n",
              "      <td>32.506163</td>\n",
              "    </tr>\n",
              "  </tbody>\n",
              "</table>\n",
              "</div>"
            ],
            "text/plain": [
              "           count         mean          std       min          25%  \\\n",
              "inputsize  100.0  4896.040000  2997.726529  8.000000  2267.500000   \n",
              "avgtime    100.0     9.312263     8.944903  0.000042     1.400469   \n",
              "\n",
              "                   50%          75%          max  \n",
              "inputsize  4540.000000  7523.000000  9915.000000  \n",
              "avgtime       6.404644    14.839803    32.506163  "
            ]
          },
          "execution_count": 220,
          "metadata": {},
          "output_type": "execute_result"
        }
      ],
      "source": [
        "bubb.describe().T"
      ]
    },
    {
      "cell_type": "markdown",
      "metadata": {
        "id": "lgOcnStvDcaq"
      },
      "source": [
        "### Quick Sort"
      ]
    },
    {
      "cell_type": "code",
      "execution_count": null,
      "metadata": {
        "id": "06ah-7UDcdRm"
      },
      "outputs": [],
      "source": [
        "# Quick Sort\n",
        "# An element is selected as a pivot, compared to all the other elements, and ultimately put into its position.\n",
        "# Array is then partitioned in two halves according to that pivot and recursively applied pivot and partition.\n",
        "# T(N) = O(nlog(n)) to O(n^2)\n",
        "def quick_sort(array,low,high):\n",
        "    def part(array,low,high):\n",
        "      pivot = array[high]\n",
        "      #print(f\"Pivot element is {pivot} at {high} index\")\n",
        "      i = low - 1\n",
        "      for j in range(low,high):\n",
        "        if array[j]<=pivot:\n",
        "          i+=1\n",
        "          array[i],array[j] = array[j],array[i]\n",
        "          #print(f'interswitching {array[j]} with {array[i]}')\n",
        "      array[i+1], array[high] = array[high], array[i+1]\n",
        "      return i+1\n",
        "    def quick(array,low,high):\n",
        "      if low<high:\n",
        "        #print(f\"Partitioning....\")\n",
        "        p = part(array,low,high)\n",
        "        #print(f\"Sorting....\")\n",
        "        quick(array,low,p-1)\n",
        "        quick(array,p+1,high)\n",
        "    start = time.time()\n",
        "    quick(array,low,high)\n",
        "    duration = time.time() - start\n",
        "    quic.loc[len(quic)+1] = [len(array),duration]\n",
        "    return array"
      ]
    },
    {
      "cell_type": "markdown",
      "metadata": {
        "id": "7PjSguvVDcaq"
      },
      "source": [
        "#### Testing loop"
      ]
    },
    {
      "cell_type": "code",
      "execution_count": null,
      "metadata": {
        "colab": {
          "base_uri": "https://localhost:8080/"
        },
        "id": "9eiuhFeXMlFx",
        "outputId": "a90d3bce-45f5-48b6-c269-1c923abd4dc1"
      },
      "outputs": [
        {
          "name": "stderr",
          "output_type": "stream",
          "text": [
            "100%|██████████████████████████████████████████████████████████████████████████████| 100/100 [00:13<00:00,  7.63it/s]\n"
          ]
        }
      ],
      "source": [
        "for i in tqdm(range(100)):\n",
        "  #print( f\"\\n-xx-------ARRAY-------xx-\\n{i+1}\")\n",
        "  array = randgen()\n",
        "  quick_sort(array,0,len(array)-1)"
      ]
    },
    {
      "cell_type": "code",
      "execution_count": null,
      "metadata": {
        "id": "kcUDfD0_Dcar",
        "outputId": "7d564a2b-ff4d-4845-e5bb-292a66b80ccc"
      },
      "outputs": [
        {
          "name": "stdout",
          "output_type": "stream",
          "text": [
            "For the average input size of 4558.25, the average time taken for Bubble sort is 0.12844732522964478 seconds.\n"
          ]
        }
      ],
      "source": [
        "print(f\"For the average input size of {quic.inputsize.mean()}, the average time taken for Bubble sort is {quic.avgtime.mean()} seconds.\")"
      ]
    },
    {
      "cell_type": "code",
      "execution_count": null,
      "metadata": {
        "id": "oeuAbO4MDcas",
        "outputId": "52dd5eff-004c-4a78-cdd6-3b23a77c48fb"
      },
      "outputs": [
        {
          "data": {
            "text/html": [
              "<div>\n",
              "<style scoped>\n",
              "    .dataframe tbody tr th:only-of-type {\n",
              "        vertical-align: middle;\n",
              "    }\n",
              "\n",
              "    .dataframe tbody tr th {\n",
              "        vertical-align: top;\n",
              "    }\n",
              "\n",
              "    .dataframe thead th {\n",
              "        text-align: right;\n",
              "    }\n",
              "</style>\n",
              "<table border=\"1\" class=\"dataframe\">\n",
              "  <thead>\n",
              "    <tr style=\"text-align: right;\">\n",
              "      <th></th>\n",
              "      <th>count</th>\n",
              "      <th>mean</th>\n",
              "      <th>std</th>\n",
              "      <th>min</th>\n",
              "      <th>25%</th>\n",
              "      <th>50%</th>\n",
              "      <th>75%</th>\n",
              "      <th>max</th>\n",
              "    </tr>\n",
              "  </thead>\n",
              "  <tbody>\n",
              "    <tr>\n",
              "      <th>inputsize</th>\n",
              "      <td>100.0</td>\n",
              "      <td>4558.250000</td>\n",
              "      <td>3032.990888</td>\n",
              "      <td>26.00000</td>\n",
              "      <td>1649.500000</td>\n",
              "      <td>4677.500000</td>\n",
              "      <td>7071.000000</td>\n",
              "      <td>9999.000000</td>\n",
              "    </tr>\n",
              "    <tr>\n",
              "      <th>avgtime</th>\n",
              "      <td>100.0</td>\n",
              "      <td>0.128447</td>\n",
              "      <td>0.128412</td>\n",
              "      <td>0.00008</td>\n",
              "      <td>0.023195</td>\n",
              "      <td>0.099758</td>\n",
              "      <td>0.189934</td>\n",
              "      <td>0.729372</td>\n",
              "    </tr>\n",
              "  </tbody>\n",
              "</table>\n",
              "</div>"
            ],
            "text/plain": [
              "           count         mean          std       min          25%  \\\n",
              "inputsize  100.0  4558.250000  3032.990888  26.00000  1649.500000   \n",
              "avgtime    100.0     0.128447     0.128412   0.00008     0.023195   \n",
              "\n",
              "                   50%          75%          max  \n",
              "inputsize  4677.500000  7071.000000  9999.000000  \n",
              "avgtime       0.099758     0.189934     0.729372  "
            ]
          },
          "execution_count": 219,
          "metadata": {},
          "output_type": "execute_result"
        }
      ],
      "source": [
        "quic.describe().T"
      ]
    },
    {
      "cell_type": "markdown",
      "metadata": {
        "id": "Bjbirwb0Dcas"
      },
      "source": [
        "### Insert Sort"
      ]
    },
    {
      "cell_type": "code",
      "execution_count": null,
      "metadata": {
        "id": "49xAGOmthPBq"
      },
      "outputs": [],
      "source": [
        "#Insert Sort\n",
        "#Iterates through the array, removing one element at a time and placing it in the right index, one element at a time.\n",
        "def insert(array):\n",
        "  start = time.time()\n",
        "  for i in range(1,len(array)):\n",
        "    #print(f'Begin at {array[i]}')\n",
        "    j = i\n",
        "    while array[j-1]>array[j] and j > 0:\n",
        "      array[j-1],array[j] = array[j],array[j-1]\n",
        "      #print(f'interswitching {array[j-1]} with {array[j]}')\n",
        "      j-=1\n",
        "      #print(f'increment j to {j}')\n",
        "  duration = time.time() - start\n",
        "  inse.loc[len(inse)+1] = [len(array),duration]\n",
        "  return array\n",
        "\n"
      ]
    },
    {
      "cell_type": "code",
      "execution_count": null,
      "metadata": {
        "colab": {
          "base_uri": "https://localhost:8080/"
        },
        "id": "4UVQGylYhUK6",
        "outputId": "50d651e7-5741-485a-b34f-f239c648e968",
        "scrolled": true
      },
      "outputs": [
        {
          "name": "stderr",
          "output_type": "stream",
          "text": [
            "100%|██████████████████████████████████████████████████████████████████████████████| 100/100 [11:29<00:00,  6.90s/it]\n"
          ]
        }
      ],
      "source": [
        "for i in tqdm(range(100)):\n",
        "  #print( f\"\\n-xx-------ARRAY-------xx-\\n{i+1}\")\n",
        "  array = randgen()\n",
        "  insert(array)"
      ]
    },
    {
      "cell_type": "code",
      "execution_count": null,
      "metadata": {
        "id": "SJEnHu4wDcat",
        "outputId": "f1e4a18d-c606-4342-a1a4-36e3fead4a32"
      },
      "outputs": [
        {
          "name": "stdout",
          "output_type": "stream",
          "text": [
            "For the average input size of 4682.87, the average time taken for Bubble sort is 6.893662550449371 seconds.\n"
          ]
        }
      ],
      "source": [
        "print(f\"For the average input size of {inse.inputsize.mean()}, the average time taken for Bubble sort is {inse.avgtime.mean()} seconds.\")"
      ]
    },
    {
      "cell_type": "code",
      "execution_count": null,
      "metadata": {
        "id": "LIWC4eFxDcat",
        "outputId": "c7bf4ea7-db03-41e9-f55b-1bc6618d7046"
      },
      "outputs": [
        {
          "data": {
            "text/html": [
              "<div>\n",
              "<style scoped>\n",
              "    .dataframe tbody tr th:only-of-type {\n",
              "        vertical-align: middle;\n",
              "    }\n",
              "\n",
              "    .dataframe tbody tr th {\n",
              "        vertical-align: top;\n",
              "    }\n",
              "\n",
              "    .dataframe thead th {\n",
              "        text-align: right;\n",
              "    }\n",
              "</style>\n",
              "<table border=\"1\" class=\"dataframe\">\n",
              "  <thead>\n",
              "    <tr style=\"text-align: right;\">\n",
              "      <th></th>\n",
              "      <th>count</th>\n",
              "      <th>mean</th>\n",
              "      <th>std</th>\n",
              "      <th>min</th>\n",
              "      <th>25%</th>\n",
              "      <th>50%</th>\n",
              "      <th>75%</th>\n",
              "      <th>max</th>\n",
              "    </tr>\n",
              "  </thead>\n",
              "  <tbody>\n",
              "    <tr>\n",
              "      <th>inputsize</th>\n",
              "      <td>100.0</td>\n",
              "      <td>4682.870000</td>\n",
              "      <td>3049.800019</td>\n",
              "      <td>23.000000</td>\n",
              "      <td>2047.750000</td>\n",
              "      <td>4628.500000</td>\n",
              "      <td>7152.750000</td>\n",
              "      <td>9875.000000</td>\n",
              "    </tr>\n",
              "    <tr>\n",
              "      <th>avgtime</th>\n",
              "      <td>100.0</td>\n",
              "      <td>6.893663</td>\n",
              "      <td>6.923447</td>\n",
              "      <td>0.000329</td>\n",
              "      <td>0.904888</td>\n",
              "      <td>4.974418</td>\n",
              "      <td>10.716507</td>\n",
              "      <td>23.435344</td>\n",
              "    </tr>\n",
              "  </tbody>\n",
              "</table>\n",
              "</div>"
            ],
            "text/plain": [
              "           count         mean          std        min          25%  \\\n",
              "inputsize  100.0  4682.870000  3049.800019  23.000000  2047.750000   \n",
              "avgtime    100.0     6.893663     6.923447   0.000329     0.904888   \n",
              "\n",
              "                   50%          75%          max  \n",
              "inputsize  4628.500000  7152.750000  9875.000000  \n",
              "avgtime       4.974418    10.716507    23.435344  "
            ]
          },
          "execution_count": 225,
          "metadata": {},
          "output_type": "execute_result"
        }
      ],
      "source": [
        "inse.describe().T"
      ]
    },
    {
      "cell_type": "markdown",
      "metadata": {
        "id": "zF-is2QsDcau"
      },
      "source": [
        "### Comparision between the three algorithms"
      ]
    },
    {
      "cell_type": "markdown",
      "metadata": {
        "id": "VCvU2134Dcau"
      },
      "source": [
        "#### Scatter plot of simulation results"
      ]
    },
    {
      "cell_type": "code",
      "execution_count": null,
      "metadata": {
        "colab": {
          "base_uri": "https://localhost:8080/",
          "height": 847
        },
        "id": "_y9kUabsQm08",
        "outputId": "47fe16d6-1155-43ff-c752-a6dabe5627c7"
      },
      "outputs": [
        {
          "data": {
            "text/plain": [
              "Text(0, 0.5, 'Time(nanoseconds)')"
            ]
          },
          "execution_count": 235,
          "metadata": {},
          "output_type": "execute_result"
        },
        {
          "data": {
            "image/png": "[encoded data removed]",
            "text/plain": [
              "<Figure size 1300x200 with 3 Axes>"
            ]
          },
          "metadata": {},
          "output_type": "display_data"
        }
      ],
      "source": [
        "f ,a = plt.subplots(1,3,figsize=(13,2),sharey=False,squeeze=True)\n",
        "a[0].scatter(bubb.inputsize,bubb.avgtime,s=0.7,color='r');a[0].set_title(\"Bubble sort simulation\");a[0].set_ylabel(\"Time(nanoseconds)\");a[0].set_xlabel(\"Input Length\")\n",
        "a[1].scatter(inse.inputsize,inse.avgtime,s=0.7,color='b');a[1].set_title(\"Insert sort simulation\");a[1].set_xlabel(\"Input Length\");a[1].set_ylabel(\"Time(nanoseconds)\")\n",
        "a[2].scatter(quic.inputsize,quic.avgtime,s=0.7,color='g');a[2].set_title(\"Quick sort simulation\");a[2].set_xlabel(\"Input Length\");a[2].set_ylabel(\"Time(nanoseconds)\")"
      ]
    },
    {
      "cell_type": "markdown",
      "metadata": {
        "id": "YRjrTCgZDcau"
      },
      "source": [
        "#### Reg plot of average results"
      ]
    },
    {
      "cell_type": "code",
      "execution_count": null,
      "metadata": {
        "id": "o6dQaMZIQqwF",
        "outputId": "b7164182-9603-44b0-8e79-6d7bf78b077e"
      },
      "outputs": [
        {
          "data": {
            "text/plain": [
              "<Axes: xlabel='inputsize', ylabel='avgtime'>"
            ]
          },
          "execution_count": 242,
          "metadata": {},
          "output_type": "execute_result"
        },
        {
          "data": {
            "image/png": "[encoded data removed]",
            "text/plain": [
              "<Figure size 1300x200 with 3 Axes>"
            ]
          },
          "metadata": {},
          "output_type": "display_data"
        }
      ],
      "source": [
        "f ,a = plt.subplots(1,3,figsize=(13,2),sharey=False,squeeze=True)\n",
        "sns.regplot(x=bubb.inputsize,y=bubb.avgtime,ax=a[0])\n",
        "sns.regplot(x=inse.inputsize,y=inse.avgtime,ax=a[1])\n",
        "sns.regplot(x=quic.inputsize,y=quic.avgtime,ax=a[2])"
      ]
    },
    {
      "cell_type": "code",
      "execution_count": null,
      "metadata": {
        "colab": {
          "base_uri": "https://localhost:8080/",
          "height": 1000
        },
        "id": "qGDmq0XVSm7P",
        "outputId": "fbddcea6-74fe-4621-b017-1a6409e45964"
      },
      "outputs": [
        {
          "data": {
            "text/plain": [
              "Text(0.5, 1.0, 'Quick sort time distribution')"
            ]
          },
          "execution_count": 253,
          "metadata": {},
          "output_type": "execute_result"
        },
        {
          "data": {
            "image/png": "[encoded data removed]",
            "text/plain": [
              "<Figure size 1300x200 with 3 Axes>"
            ]
          },
          "metadata": {},
          "output_type": "display_data"
        }
      ],
      "source": [
        "f ,a = plt.subplots(1,3,figsize=(13,2),sharey=False,squeeze=True)\n",
        "sns.histplot(x=bubb.avgtime,ax=a[0],kde=True);a[0].set_title(\"Bubble sort time distribution\")\n",
        "sns.histplot(x=inse.avgtime,ax=a[1],kde=True);a[1].set_title(\"Insert sort time distribution\")\n",
        "sns.histplot(x=quic.avgtime,ax=a[2],kde=True);a[2].set_title(\"Quick sort time distribution\")\n"
      ]
    },
    {
      "cell_type": "markdown",
      "metadata": {
        "id": "exUcrvAlDcav"
      },
      "source": [
        "#### In conclusion, we can say that because of the divide and conquer approach of quick sort, it is the fastest (by miles) in this comparision"
      ]
    },
    {
      "cell_type": "code",
      "execution_count": null,
      "metadata": {
        "id": "JR0KMtUDDcav"
      },
      "outputs": [],
      "source": []
    }
  ],
  "metadata": {
    "colab": {
      "provenance": [],
      "include_colab_link": true
    },
    "kernelspec": {
      "display_name": "Python 3 (ipykernel)",
      "language": "python",
      "name": "python3"
    },
    "language_info": {
      "codemirror_mode": {
        "name": "ipython",
        "version": 3
      },
      "file_extension": ".py",
      "mimetype": "text/x-python",
      "name": "python",
      "nbconvert_exporter": "python",
      "pygments_lexer": "ipython3",
      "version": "3.10.12"
    }
  },
  "nbformat": 4,
  "nbformat_minor": 0
}